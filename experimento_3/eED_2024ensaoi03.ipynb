{
  "nbformat": 4,
  "nbformat_minor": 0,
  "metadata": {
    "colab": {
      "provenance": []
    },
    "kernelspec": {
      "name": "python3",
      "display_name": "Python 3"
    },
    "language_info": {
      "name": "python"
    }
  },
  "cells": [
    {
      "cell_type": "code",
      "source": [
        "import os\n",
        "os.environ['KMP_DUPLICATE_LIB_OK']='True'"
      ],
      "metadata": {
        "id": "4Gcr8qI2P-8C"
      },
      "execution_count": null,
      "outputs": []
    },
    {
      "cell_type": "markdown",
      "source": [
        ">>Importação das bibliotecas"
      ],
      "metadata": {
        "id": "CDVYwOMQba6z"
      }
    },
    {
      "cell_type": "code",
      "source": [
        "import pandas as pd\n",
        "import seaborn as sns\n",
        "import matplotlib.pyplot as plt"
      ],
      "metadata": {
        "id": "rsli8NiBbLS4"
      },
      "execution_count": null,
      "outputs": []
    },
    {
      "cell_type": "markdown",
      "source": [
        ">>Carregamento do dataset"
      ],
      "metadata": {
        "id": "lNTAmAzIbWZ9"
      }
    },
    {
      "cell_type": "code",
      "source": [
        "df = pd.read_csv('/content/drive/MyDrive/AulasPECE/Colab Notebooks/datasets/southeast.csv.zip', nrows=10000)\n",
        "df.sample(20)"
      ],
      "metadata": {
        "id": "8xE40xWObNos"
      },
      "execution_count": null,
      "outputs": []
    },
    {
      "cell_type": "code",
      "source": [
        "print(\"\\nInformações sobre o dataset:\")\n",
        "df.info()"
      ],
      "metadata": {
        "id": "5uyZnWh1boQi"
      },
      "execution_count": null,
      "outputs": []
    },
    {
      "cell_type": "markdown",
      "source": [
        ">>Análise e Tratamento inicial dos Dados"
      ],
      "metadata": {
        "id": "myt9NXKqb6Xc"
      }
    },
    {
      "cell_type": "code",
      "source": [
        "print(\"\\nNúmero de valores ausentes em cada coluna:\")\n",
        "print(df.isnull().sum())"
      ],
      "metadata": {
        "id": "gSt22mFJcHhv"
      },
      "execution_count": null,
      "outputs": []
    },
    {
      "cell_type": "code",
      "source": [
        "linhas_ausentes = df[df.isnull().any(axis=1)]\n",
        "linhas_ausentes.head()"
      ],
      "metadata": {
        "id": "QL7rfi6VlEg6"
      },
      "execution_count": null,
      "outputs": []
    },
    {
      "cell_type": "code",
      "source": [
        "df = df.dropna()"
      ],
      "metadata": {
        "id": "iVhN8_uQny7U"
      },
      "execution_count": null,
      "outputs": []
    },
    {
      "cell_type": "code",
      "source": [
        "count_neg9999 = df.isin([-9999]).any(axis=1).sum()\n",
        "print(f\"Número de linhas que contêm valores iguais a -9999 em qualquer coluna: {count_neg9999}\")"
      ],
      "metadata": {
        "colab": {
          "base_uri": "https://localhost:8080/"
        },
        "id": "_i2rvH0u9mZz",
        "outputId": "2ee8e824-873b-43ac-919b-b7fe63dd08ee"
      },
      "execution_count": null,
      "outputs": [
        {
          "output_type": "stream",
          "name": "stdout",
          "text": [
            "Número de linhas que contêm valores iguais a -9999 em qualquer coluna: 5207\n"
          ]
        }
      ]
    },
    {
      "cell_type": "code",
      "source": [
        "df_cleaned = df[~df.isin([-9999]).any(axis=1)]"
      ],
      "metadata": {
        "id": "DS2_b6rX-O2I"
      },
      "execution_count": null,
      "outputs": []
    },
    {
      "cell_type": "code",
      "source": [
        "print(\"\\nDistribuição de VENTO, RAJADA MAXIMA (m/s)\")\n",
        "sns.histplot(df_cleaned['VENTO, RAJADA MAXIMA (m/s)'])\n",
        "plt.title('Distribuição VENTO, RAJADA MAXIMA (m/s)')\n",
        "plt.show()"
      ],
      "metadata": {
        "id": "1qGGLZbjpt91"
      },
      "execution_count": null,
      "outputs": []
    },
    {
      "cell_type": "markdown",
      "source": [
        ">>Seleção de Atributos\n",
        ">>> Investigar a correlação com a coluna 'VENTO, VELOCIDADE HORARIA (m/s)'"
      ],
      "metadata": {
        "id": "fdGfldg_1_xU"
      }
    },
    {
      "cell_type": "code",
      "source": [
        "df_numerical = df_cleaned.select_dtypes(include=['float64', 'int64'])\n",
        "df_numerical = df_numerical.drop(columns=['index'], errors='ignore')"
      ],
      "metadata": {
        "id": "aiAx7-I4YksQ"
      },
      "execution_count": null,
      "outputs": []
    },
    {
      "cell_type": "code",
      "source": [
        "if 'VENTO, VELOCIDADE HORARIA (m/s)' in df_numerical.columns:\n",
        "    print(\"\\nCorrelação dos atributos numéricos com 'VENTO, VELOCIDADE HORARIA (m/s)':\")\n",
        "    correlation_with_vento = df_numerical.corr()['VENTO, VELOCIDADE HORARIA (m/s)']\n",
        "    print(correlation_with_vento)\n",
        "    columns_above_threshold = correlation_with_vento[correlation_with_vento.abs() > 0.4].index\n",
        "    df_filtered = df_numerical[columns_above_threshold]\n",
        "else:\n",
        "    print(\"A coluna 'VENTO, VELOCIDADE HORARIA (m/s)' não está presente no DataFrame.\")\n"
      ],
      "metadata": {
        "id": "Vh3BUam6oJ5Q"
      },
      "execution_count": null,
      "outputs": []
    },
    {
      "cell_type": "code",
      "source": [
        "print(\"\\nNovo DataFrame com colunas cujas correlações com 'VENTO, VELOCIDADE HORARIA (m/s)' são maiores que 0.4:\")\n",
        "df_filtered.sample(10)"
      ],
      "metadata": {
        "id": "lOuPMwIy47c8"
      },
      "execution_count": null,
      "outputs": []
    },
    {
      "cell_type": "code",
      "source": [
        "df_subset = df_numerical.iloc[:, :10]\n",
        "plt.figure(figsize=(8, 6))\n",
        "sns.heatmap(df_subset.corr(), annot=True, cmap='coolwarm', fmt='.2f')\n",
        "plt.title('Matriz de Correlação - Primeiras 10 Colunas')\n",
        "plt.show()"
      ],
      "metadata": {
        "id": "CCsmgg_8fTgE"
      },
      "execution_count": null,
      "outputs": []
    },
    {
      "cell_type": "markdown",
      "source": [
        ">> Redutor de Dimensionalidade"
      ],
      "metadata": {
        "id": "Y2koPy0Ld7FA"
      }
    },
    {
      "cell_type": "code",
      "source": [
        "from sklearn.decomposition import PCA\n",
        "import numpy as np"
      ],
      "metadata": {
        "id": "BCl9cqk0d6Q4"
      },
      "execution_count": null,
      "outputs": []
    },
    {
      "cell_type": "code",
      "source": [
        "pca = PCA(n_components=6)  # Reduzindo para 6 componentes principais\n",
        "df_numerical_pca = pca.fit_transform(df_numerical)"
      ],
      "metadata": {
        "id": "diIAoNAkd-UT"
      },
      "execution_count": null,
      "outputs": []
    },
    {
      "cell_type": "code",
      "source": [
        "print(\"Variância explicada por cada componente:\", pca.explained_variance_ratio_)\n",
        "print(\"Variância total explicada:\", np.sum(pca.explained_variance_ratio_))"
      ],
      "metadata": {
        "id": "VoTg8CpVeSez"
      },
      "execution_count": null,
      "outputs": []
    },
    {
      "cell_type": "code",
      "source": [
        "n_components = df_numerical_pca.shape[1]\n",
        "df_numerical_pca_df = pd.DataFrame(df_numerical_pca, columns=[f'PC{i+1}' for i in range(n_components)])\n",
        "plt.figure(figsize=(8, 6))\n",
        "sns.heatmap(df_numerical_pca_df.corr(), annot=True, cmap='coolwarm', fmt='.2f')\n",
        "plt.title('Matriz de Correlação - Componentes Principais')\n",
        "plt.show()"
      ],
      "metadata": {
        "id": "qxPTncUggk6F"
      },
      "execution_count": null,
      "outputs": []
    },
    {
      "cell_type": "markdown",
      "source": [
        ">>Target Encoding"
      ],
      "metadata": {
        "id": "Jl0-BNmD7kD_"
      }
    },
    {
      "cell_type": "code",
      "source": [
        "df_finc = pd.read_csv('/content/PS_20174392719_1491204439457_log.csv.zip', nrows=10000)\n",
        "df_finc.sample(20)"
      ],
      "metadata": {
        "id": "fuMUI8kM3RN6"
      },
      "execution_count": null,
      "outputs": []
    },
    {
      "cell_type": "code",
      "source": [
        "mean_encoded = df_finc.groupby('type')['newbalanceDest'].mean()\n",
        "print(mean_encoded)"
      ],
      "metadata": {
        "id": "c-vm61HF9U98"
      },
      "execution_count": null,
      "outputs": []
    },
    {
      "cell_type": "code",
      "source": [
        "df_finc['type_encoded'] = df_finc['type'].map(mean_encoded)\n",
        "df_finc.head()"
      ],
      "metadata": {
        "id": "PzPVjYNh84EB"
      },
      "execution_count": null,
      "outputs": []
    },
    {
      "cell_type": "code",
      "source": [
        "plt.figure(figsize=(6, 4))\n",
        "plt.scatter(df_finc['type_encoded'], df_finc['newbalanceDest'], color='blue', alpha=0.7)\n",
        "plt.title('newbalanceDest versus type_encoded')\n",
        "plt.ylabel('newbalanceDest')\n",
        "plt.xlabel('type_encoded')\n",
        "plt.grid(True)\n",
        "plt.show()"
      ],
      "metadata": {
        "id": "_YEvKQyG-rcV"
      },
      "execution_count": null,
      "outputs": []
    },
    {
      "cell_type": "markdown",
      "source": [
        "## Exercícios"
      ],
      "metadata": {
        "id": "mxNWHsnn2NRE"
      }
    },
    {
      "cell_type": "markdown",
      "source": [
        "1. Pré-Processamento de Dados - Tratamento de Valores Ausentes e Inválidos\n",
        "\n",
        "**Questão**: Considerando que alguns valores ausentes no dataset podem ser substituídos em vez de descartados, quais seriam as possíveis estratégias para substituir valores ausentes e valores inválidos (como -9999)? Implemente ao menos uma estratégia de substituição e compare os resultados com a remoção dos dados.\n",
        "\n",
        "**Objetivo**: Entender o impacto de diferentes abordagens de tratamento de dados ausentes no dataset\n",
        "\n",
        "2. Análise de Correlação - Seleção de Atributos\n",
        "\n",
        "**Questão**: Ao analisar a correlação entre variáveis numéricas e a variável-alvo VENTO, VELOCIDADE HORARIA (m/s), quais atributos apresentam a correlação mais alta? Como essa seleção de atributos poderia influenciar a construção de um modelo preditivo? Justifique a escolha dos atributos a serem mantidos.\n",
        "\n",
        "**Objetivo**: Identificar os atributos que têm maior influência sobre a variável de interesse, e compreender como a correlação pode ajudar a reduzir a dimensionalidade do problema, mantendo apenas variáveis relevantes.\n",
        "\n",
        "3. Redução de Dimensionalidade com PCA\n",
        "\n",
        "**Questão**: Após aplicar PCA ao dataset numérico, os primeiros 6 componentes principais explicam que porcentagem da variância total dos dados? Discuta como a escolha do número de componentes pode impactar o equilíbrio entre a simplificação do modelo e a perda de informação.\n",
        "\n",
        "**Objetivo:** Analisar a variância explicada por cada componente principal e tomar decisões sobre o número ideal de componentes para representar os dados, considerando a preservação da variabilidade original.\n",
        "\n",
        "4. Target Encoding em Variáveis Categóricas\n",
        "\n",
        "**Questão:** Considerando o uso do Target Encoding para a variável type no dataset financeiro, quais seriam as implicações desse método em um modelo preditivo? Como o Target Encoding pode impactar a variabilidade dos dados e o risco de overfitting?\n",
        "\n",
        "**Objetivo:** Avaliar os prós e contras do Target Encoding, especialmente em relação à sua sensibilidade ao tamanho do dataset e à relação entre as variáveis categóricas e a variável-alvo.\n",
        "\n",
        "5. Visualização e Interpretação de Dados\n",
        "\n",
        "**Questão:** A partir da matriz de correlação gerada para as primeiras 10 colunas do dataset, identifique possíveis relações entre variáveis que podem ser exploradas em um modelo preditivo. Como a análise gráfica pode complementar a análise numérica para entender melhor essas relações?\n",
        "\n",
        "**Objetivo:** Desenvolver a habilidade de interpretar visualizações como mapas de calor de correlação e associar essa interpretação com as decisões de modelagem, como seleção de variáveis e tratamento de multicolinearidade."
      ],
      "metadata": {
        "id": "dBB0mEFK2QnL"
      }
    }
  ]
}